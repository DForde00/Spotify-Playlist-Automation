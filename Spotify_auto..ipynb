{
 "cells": [
  {
   "cell_type": "code",
   "execution_count": 3,
   "metadata": {},
   "outputs": [],
   "source": [
    "import spotipy\n",
    "import spotipy.util as util\n",
    "import datetime\n",
    "\n",
    "from spotipy.oauth2 import SpotifyOAuth\n",
    "from spotipy.oauth2 import SpotifyClientCredentials"
   ]
  },
  {
   "cell_type": "code",
   "execution_count": 4,
   "metadata": {},
   "outputs": [],
   "source": [
    "# Replace these with your own Spotify API credentials\n",
    "CLIENT_ID = #####\n",
    "CLIENT_SECRET = #####\n",
    "REDIRECT_URI =  #####\n",
    "\n",
    "# Replace this with your Spotify username\n",
    "USERNAME = #####\n",
    "\n",
    "# Set the scope for the Spotify API\n",
    "SCOPE = #####\n",
    "\n",
    "# Get a token to authenticate with the Spotify API\n",
    "token = util.prompt_for_user_token(USERNAME, SCOPE, client_id = CLIENT_ID,\n",
    "                                   client_secret = CLIENT_SECRET, redirect_uri = REDIRECT_URI)\n",
    "\n",
    "# Create a Spotipy client\n",
    "sp = spotipy.Spotify(auth = token)"
   ]
  },
  {
   "cell_type": "code",
   "execution_count": 27,
   "metadata": {},
   "outputs": [],
   "source": [
    "# dictionary to store the playlists created\n",
    "playlists = {}\n",
    "\n",
    "def organise_my_tunes(earliest_year):\n",
    "    # Get the user's liked songs\n",
    "    liked_songs = sp.current_user_saved_tracks()\n",
    "    \n",
    "    while liked_songs:\n",
    "        # Iterate through the liked songs and group them by month\n",
    "        for song in liked_songs['items']:\n",
    "            # Get the month and year the song was added to the user's liked songs\n",
    "            added_at = song['added_at']\n",
    "            added_at_dt = datetime.datetime.fromisoformat(added_at[0:10])\n",
    "            month = added_at_dt.month\n",
    "            year = added_at_dt.year\n",
    "\n",
    "            # Only create a playlist and add songs if the year is equal to or later than the earliest year\n",
    "            if year >= earliest_year:\n",
    "                # Create a playlist for the month if one doesn't already exist\n",
    "                if (month, year) not in playlists:\n",
    "                    playlist_name = f'Liked Songs: {month}/{year}'\n",
    "                    playlist = sp.user_playlist_create(USERNAME, playlist_name)\n",
    "                    playlist_id = playlist['id']\n",
    "                    playlists[(month, year)] = playlist_id\n",
    "\n",
    "                # Add the song to the playlist for the month it was added\n",
    "                playlist_id = playlists[(month, year)]\n",
    "                sp.user_playlist_add_tracks(USERNAME, playlist_id, [song['track']['id']])\n",
    "                \n",
    "        liked_songs = sp.next(liked_songs)\n",
    "\n",
    "    return(print('Successfully created playlists and added your liked songs to them!'))"
   ]
  },
  {
   "cell_type": "code",
   "execution_count": 28,
   "metadata": {},
   "outputs": [
    {
     "name": "stdout",
     "output_type": "stream",
     "text": [
      "Successfully created playlists and added your liked songs to them!\n"
     ]
    }
   ],
   "source": [
    "organise_my_tunes(2020) "
   ]
  },
  {
   "cell_type": "code",
   "execution_count": null,
   "metadata": {},
   "outputs": [],
   "source": []
  }
 ],
 "metadata": {
  "kernelspec": {
   "display_name": "Python 3",
   "language": "python",
   "name": "python3"
  },
  "language_info": {
   "codemirror_mode": {
    "name": "ipython",
    "version": 3
   },
   "file_extension": ".py",
   "mimetype": "text/x-python",
   "name": "python",
   "nbconvert_exporter": "python",
   "pygments_lexer": "ipython3",
   "version": "3.8.10"
  }
 },
 "nbformat": 4,
 "nbformat_minor": 4
}
